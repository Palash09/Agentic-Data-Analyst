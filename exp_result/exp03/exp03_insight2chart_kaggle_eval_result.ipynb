{
  "cells": [
    {
      "cell_type": "code",
      "execution_count": 8,
      "metadata": {},
      "outputs": [],
      "source": [
        "import json\n",
        "import pandas as pd\n",
        "from deepeval.test_case import LLMTestCase\n",
        "from deepeval.test_case import LLMTestCaseParams\n",
        "from deepeval.metrics import GEval\n",
        "from deepeval import assert_test\n",
        "\n",
        "# Load model outputs — each element is a JSON string\n",
        "# with open(\"/Users/zhangran/Desktop/BP@UnitedStates/Code/D2D_Data2Dashboard/exp_result/exp01_d2insight_sys_stimhartnow_result.json\", \"r\") as f:\n",
        "#     output_sys = json.load(f)\n",
        "\n",
        "# # Load model outputs — each element is a JSON string\n",
        "# with open(\"/Users/zhangran/Desktop/BP@UnitedStates/Code/D2D_Data2Dashboard/exp_result/exp01_d2insight_gpt4o_domain_stimhartnow_result.json\", \"r\") as f:\n",
        "#     output_gpt4o = json.load(f)\n",
        "\n",
        "insight_sys = '''1. **Investment Preferences by Gender**: We want to explore if there are differences in investment preferences between genders. A stacked bar chart can effectively show the distribution of investment avenues (Mutual Funds, Equity Market, etc.) by gender. This will help us understand if certain investment types are more popular among males or females.\n",
        "2. **Age Distribution and Investment Choices**: The age range is relatively narrow, but it's important to see how age correlates with investment choices. A box plot can show the distribution of ages for different investment avenues, highlighting any age-related trends in investment behavior.\n",
        "3. **Investment Monitoring Frequency**: Understanding how frequently individuals monitor their investments can provide insights into their engagement level. A pie chart showing the distribution of investment monitoring frequencies (Daily, Weekly, Monthly) will illustrate this aspect.\n",
        "4. **Savings Objectives and Investment Avenues**: It's crucial to see how savings objectives align with chosen investment avenues. A heatmap can display the relationship between savings objectives and investment avenues, showing which objectives are associated with which types of investments.\n",
        "5. **Expected Returns and Investment Preferences**: Analyzing the expected returns against investment preferences can reveal risk tolerance levels. A scatter plot with jitter can show the relationship between expected returns and the number of investments in different avenues.'''\n",
        "\n",
        "insight_human = '''We can see from the above graph that most of our respondents were in the ages 24-31 and we will look further their habits in the finance field. The above trend shows us that people are less worried about risks involved and more worried about the money which they will get back. We can see that high number of males are dependent on Returns. From the above plot it is clear that as people grow older they are more inclined towards Returns and people at young age look more for wealth creation'''\n",
        "\n",
        "# 3. Create a test case without reference output\n",
        "test_case_sys = LLMTestCase(\n",
        "    input=\"Personal finance investment survey dataset with columns: gender\tage\tInvestment_Avenues\tMutual_Funds\tEquity_Market\tDebentures\tGovernment_Bonds\tFixed_Deposits\tPPF\tGold\t...\tDuration\tInvest_Monitor\tExpect\tAvenue\tWhat are your savings objectives?\tReason_Equity\tReason_Mutual\tReason_Bonds\tReason_FD\tSource\",\n",
        "    actual_output=insight_sys,\n",
        ")\n",
        "\n",
        "test_case_human = LLMTestCase(\n",
        "    input=\"Personal finance investment survey dataset with columns: gender\tage\tInvestment_Avenues\tMutual_Funds\tEquity_Market\tDebentures\tGovernment_Bonds\tFixed_Deposits\tPPF\tGold\t...\tDuration\tInvest_Monitor\tExpect\tAvenue\tWhat are your savings objectives?\tReason_Equity\tReason_Mutual\tReason_Bonds\tReason_FD\tSource\",\n",
        "    actual_output=insight_human,\n",
        ")"
      ]
    },
    {
      "cell_type": "code",
      "execution_count": 9,
      "metadata": {},
      "outputs": [],
      "source": [
        "# 4. Define GEval metrics (self-evaluation — no expected_output)\n",
        "insightful = GEval(\n",
        "    name=\"Insightful\",\n",
        "    criteria=\"Does the output offer a deep or non-obvious understanding? Does it connect patterns or trends that aren't immediately apparent?\",\n",
        "    evaluation_params=[LLMTestCaseParams.INPUT, LLMTestCaseParams.ACTUAL_OUTPUT],\n",
        ")\n",
        "\n",
        "novelty = GEval(\n",
        "    name=\"Novelty\",\n",
        "    criteria=\"Does the output go beyond generic interpretation? Would it surprise or teach something new to a domain expert?\",\n",
        "    evaluation_params=[LLMTestCaseParams.INPUT, LLMTestCaseParams.ACTUAL_OUTPUT],\n",
        ")\n",
        "\n",
        "depth = GEval(\n",
        "    name=\"Depth\",\n",
        "    criteria=\"Does the analysis demonstrate deep insight\",\n",
        "    evaluation_params=[LLMTestCaseParams.INPUT, LLMTestCaseParams.ACTUAL_OUTPUT],\n",
        ")"
      ]
    },
    {
      "cell_type": "code",
      "execution_count": 10,
      "metadata": {},
      "outputs": [],
      "source": [
        "# # 5. Run evaluation (assertion-based print)\n",
        "# print(\"\\n=== Insight Evaluation Report ===\")\n",
        "# assert_test(test_case_sys, [insightful, novelty, domain_relevance])"
      ]
    },
    {
      "cell_type": "code",
      "execution_count": 11,
      "metadata": {},
      "outputs": [
        {
          "data": {
            "text/html": [
              "<pre style=\"white-space:pre;overflow-x:auto;line-height:normal;font-family:Menlo,'DejaVu Sans Mono',consolas,'Courier New',monospace\">✨ You're running DeepEval's latest <span style=\"color: #6a00ff; text-decoration-color: #6a00ff\">Insightful </span><span style=\"color: #6a00ff; text-decoration-color: #6a00ff; font-weight: bold\">(</span><span style=\"color: #6a00ff; text-decoration-color: #6a00ff\">GEval</span><span style=\"color: #6a00ff; text-decoration-color: #6a00ff; font-weight: bold\">)</span><span style=\"color: #6a00ff; text-decoration-color: #6a00ff\"> Metric</span>! <span style=\"color: #374151; text-decoration-color: #374151; font-weight: bold\">(</span><span style=\"color: #374151; text-decoration-color: #374151\">using gpt-4o, </span><span style=\"color: #374151; text-decoration-color: #374151\">strict</span><span style=\"color: #374151; text-decoration-color: #374151\">=</span><span style=\"color: #374151; text-decoration-color: #374151; font-style: italic\">False</span><span style=\"color: #374151; text-decoration-color: #374151\">, </span><span style=\"color: #374151; text-decoration-color: #374151\">async_mode</span><span style=\"color: #374151; text-decoration-color: #374151\">=</span><span style=\"color: #374151; text-decoration-color: #374151; font-style: italic\">True</span><span style=\"color: #374151; text-decoration-color: #374151; font-weight: bold\">)</span><span style=\"color: #374151; text-decoration-color: #374151\">...</span>\n",
              "</pre>\n"
            ],
            "text/plain": [
              "✨ You're running DeepEval's latest \u001b[38;2;106;0;255mInsightful \u001b[0m\u001b[1;38;2;106;0;255m(\u001b[0m\u001b[38;2;106;0;255mGEval\u001b[0m\u001b[1;38;2;106;0;255m)\u001b[0m\u001b[38;2;106;0;255m Metric\u001b[0m! \u001b[1;38;2;55;65;81m(\u001b[0m\u001b[38;2;55;65;81musing gpt-4o, \u001b[0m\u001b[38;2;55;65;81mstrict\u001b[0m\u001b[38;2;55;65;81m=\u001b[0m\u001b[3;38;2;55;65;81mFalse\u001b[0m\u001b[38;2;55;65;81m, \u001b[0m\u001b[38;2;55;65;81masync_mode\u001b[0m\u001b[38;2;55;65;81m=\u001b[0m\u001b[3;38;2;55;65;81mTrue\u001b[0m\u001b[1;38;2;55;65;81m)\u001b[0m\u001b[38;2;55;65;81m...\u001b[0m\n"
            ]
          },
          "metadata": {},
          "output_type": "display_data"
        },
        {
          "data": {
            "text/html": [
              "<pre style=\"white-space:pre;overflow-x:auto;line-height:normal;font-family:Menlo,'DejaVu Sans Mono',consolas,'Courier New',monospace\">✨ You're running DeepEval's latest <span style=\"color: #6a00ff; text-decoration-color: #6a00ff\">Novelty </span><span style=\"color: #6a00ff; text-decoration-color: #6a00ff; font-weight: bold\">(</span><span style=\"color: #6a00ff; text-decoration-color: #6a00ff\">GEval</span><span style=\"color: #6a00ff; text-decoration-color: #6a00ff; font-weight: bold\">)</span><span style=\"color: #6a00ff; text-decoration-color: #6a00ff\"> Metric</span>! <span style=\"color: #374151; text-decoration-color: #374151; font-weight: bold\">(</span><span style=\"color: #374151; text-decoration-color: #374151\">using gpt-4o, </span><span style=\"color: #374151; text-decoration-color: #374151\">strict</span><span style=\"color: #374151; text-decoration-color: #374151\">=</span><span style=\"color: #374151; text-decoration-color: #374151; font-style: italic\">False</span><span style=\"color: #374151; text-decoration-color: #374151\">, </span><span style=\"color: #374151; text-decoration-color: #374151\">async_mode</span><span style=\"color: #374151; text-decoration-color: #374151\">=</span><span style=\"color: #374151; text-decoration-color: #374151; font-style: italic\">True</span><span style=\"color: #374151; text-decoration-color: #374151; font-weight: bold\">)</span><span style=\"color: #374151; text-decoration-color: #374151\">...</span>\n",
              "</pre>\n"
            ],
            "text/plain": [
              "✨ You're running DeepEval's latest \u001b[38;2;106;0;255mNovelty \u001b[0m\u001b[1;38;2;106;0;255m(\u001b[0m\u001b[38;2;106;0;255mGEval\u001b[0m\u001b[1;38;2;106;0;255m)\u001b[0m\u001b[38;2;106;0;255m Metric\u001b[0m! \u001b[1;38;2;55;65;81m(\u001b[0m\u001b[38;2;55;65;81musing gpt-4o, \u001b[0m\u001b[38;2;55;65;81mstrict\u001b[0m\u001b[38;2;55;65;81m=\u001b[0m\u001b[3;38;2;55;65;81mFalse\u001b[0m\u001b[38;2;55;65;81m, \u001b[0m\u001b[38;2;55;65;81masync_mode\u001b[0m\u001b[38;2;55;65;81m=\u001b[0m\u001b[3;38;2;55;65;81mTrue\u001b[0m\u001b[1;38;2;55;65;81m)\u001b[0m\u001b[38;2;55;65;81m...\u001b[0m\n"
            ]
          },
          "metadata": {},
          "output_type": "display_data"
        },
        {
          "data": {
            "text/html": [
              "<pre style=\"white-space:pre;overflow-x:auto;line-height:normal;font-family:Menlo,'DejaVu Sans Mono',consolas,'Courier New',monospace\">✨ You're running DeepEval's latest <span style=\"color: #6a00ff; text-decoration-color: #6a00ff\">Depth </span><span style=\"color: #6a00ff; text-decoration-color: #6a00ff; font-weight: bold\">(</span><span style=\"color: #6a00ff; text-decoration-color: #6a00ff\">GEval</span><span style=\"color: #6a00ff; text-decoration-color: #6a00ff; font-weight: bold\">)</span><span style=\"color: #6a00ff; text-decoration-color: #6a00ff\"> Metric</span>! <span style=\"color: #374151; text-decoration-color: #374151; font-weight: bold\">(</span><span style=\"color: #374151; text-decoration-color: #374151\">using gpt-4o, </span><span style=\"color: #374151; text-decoration-color: #374151\">strict</span><span style=\"color: #374151; text-decoration-color: #374151\">=</span><span style=\"color: #374151; text-decoration-color: #374151; font-style: italic\">False</span><span style=\"color: #374151; text-decoration-color: #374151\">, </span><span style=\"color: #374151; text-decoration-color: #374151\">async_mode</span><span style=\"color: #374151; text-decoration-color: #374151\">=</span><span style=\"color: #374151; text-decoration-color: #374151; font-style: italic\">True</span><span style=\"color: #374151; text-decoration-color: #374151; font-weight: bold\">)</span><span style=\"color: #374151; text-decoration-color: #374151\">...</span>\n",
              "</pre>\n"
            ],
            "text/plain": [
              "✨ You're running DeepEval's latest \u001b[38;2;106;0;255mDepth \u001b[0m\u001b[1;38;2;106;0;255m(\u001b[0m\u001b[38;2;106;0;255mGEval\u001b[0m\u001b[1;38;2;106;0;255m)\u001b[0m\u001b[38;2;106;0;255m Metric\u001b[0m! \u001b[1;38;2;55;65;81m(\u001b[0m\u001b[38;2;55;65;81musing gpt-4o, \u001b[0m\u001b[38;2;55;65;81mstrict\u001b[0m\u001b[38;2;55;65;81m=\u001b[0m\u001b[3;38;2;55;65;81mFalse\u001b[0m\u001b[38;2;55;65;81m, \u001b[0m\u001b[38;2;55;65;81masync_mode\u001b[0m\u001b[38;2;55;65;81m=\u001b[0m\u001b[3;38;2;55;65;81mTrue\u001b[0m\u001b[1;38;2;55;65;81m)\u001b[0m\u001b[38;2;55;65;81m...\u001b[0m\n"
            ]
          },
          "metadata": {},
          "output_type": "display_data"
        },
        {
          "name": "stderr",
          "output_type": "stream",
          "text": [
            "Evaluating 1 test case(s) in parallel: |██████████|100% (1/1) [Time Taken: 00:06,  6.86s/test case]"
          ]
        },
        {
          "name": "stdout",
          "output_type": "stream",
          "text": [
            "\n",
            "======================================================================\n",
            "\n",
            "Metrics Summary\n",
            "\n",
            "  - ✅ Insightful (GEval) (score: 0.8179717012599503, threshold: 0.5, strict: False, evaluation model: gpt-4o, reason: The output identifies connections such as gender differences in investment preferences and age-related trends, which are not explicitly stated in the input. It also unveils patterns like the relationship between savings objectives and investment avenues, and expected returns with investment preferences, going beyond the immediate information provided., error: None)\n",
            "  - ❌ Novelty (GEval) (score: 0.3964374642639535, threshold: 0.5, strict: False, evaluation model: gpt-4o, reason: The output provides basic insights like gender differences and age distribution in investment preferences, but lacks specific examples or novel conclusions. It suggests common visualization techniques without introducing innovative approaches or perspectives that require additional thinking from a domain expert., error: None)\n",
            "  - ✅ Depth (GEval) (score: 0.733854962590572, threshold: 0.5, strict: False, evaluation model: gpt-4o, reason: The Actual Output reflects a good understanding of the dataset by suggesting various analyses like gender-based preferences and age distribution, which aligns with the Input. It provides novel viewpoints such as using different chart types to explore data, but lacks deeper synthesis of underlying patterns or connections beyond visual representation. It enhances the Input by suggesting specific visualizations but does not incorporate broader perspectives or additional context., error: None)\n",
            "\n",
            "For test case:\n",
            "\n",
            "  - input: Personal finance investment survey dataset with columns: gender\tage\tInvestment_Avenues\tMutual_Funds\tEquity_Market\tDebentures\tGovernment_Bonds\tFixed_Deposits\tPPF\tGold\t...\tDuration\tInvest_Monitor\tExpect\tAvenue\tWhat are your savings objectives?\tReason_Equity\tReason_Mutual\tReason_Bonds\tReason_FD\tSource\n",
            "  - actual output: 1. **Investment Preferences by Gender**: We want to explore if there are differences in investment preferences between genders. A stacked bar chart can effectively show the distribution of investment avenues (Mutual Funds, Equity Market, etc.) by gender. This will help us understand if certain investment types are more popular among males or females.\n",
            "2. **Age Distribution and Investment Choices**: The age range is relatively narrow, but it's important to see how age correlates with investment choices. A box plot can show the distribution of ages for different investment avenues, highlighting any age-related trends in investment behavior.\n",
            "3. **Investment Monitoring Frequency**: Understanding how frequently individuals monitor their investments can provide insights into their engagement level. A pie chart showing the distribution of investment monitoring frequencies (Daily, Weekly, Monthly) will illustrate this aspect.\n",
            "4. **Savings Objectives and Investment Avenues**: It's crucial to see how savings objectives align with chosen investment avenues. A heatmap can display the relationship between savings objectives and investment avenues, showing which objectives are associated with which types of investments.\n",
            "5. **Expected Returns and Investment Preferences**: Analyzing the expected returns against investment preferences can reveal risk tolerance levels. A scatter plot with jitter can show the relationship between expected returns and the number of investments in different avenues.\n",
            "  - expected output: None\n",
            "  - context: None\n",
            "  - retrieval context: None\n",
            "\n",
            "======================================================================\n",
            "\n",
            "Overall Metric Pass Rates\n",
            "\n",
            "Insightful (GEval): 100.00% pass rate\n",
            "Novelty (GEval): 0.00% pass rate\n",
            "Depth (GEval): 100.00% pass rate\n",
            "\n",
            "======================================================================\n",
            "\n"
          ]
        },
        {
          "name": "stderr",
          "output_type": "stream",
          "text": [
            "\n"
          ]
        },
        {
          "data": {
            "text/html": [
              "<pre style=\"white-space:pre;overflow-x:auto;line-height:normal;font-family:Menlo,'DejaVu Sans Mono',consolas,'Courier New',monospace\">\n",
              "<span style=\"color: #05f58d; text-decoration-color: #05f58d\">✓</span> Tests finished 🎉! Run <span style=\"color: #008000; text-decoration-color: #008000; font-weight: bold\">'deepeval login'</span> to save and analyze evaluation results on Confident AI.\n",
              " \n",
              "✨👀 Looking for a place for your LLM test data to live 🏡❤️ ? Use <span style=\"color: #6a00ff; text-decoration-color: #6a00ff\">Confident AI</span> to get &amp; share testing reports, \n",
              "experiment with models/prompts, and catch regressions for your LLM system. Just run <span style=\"color: #008080; text-decoration-color: #008080\">'deepeval login'</span> in the CLI. \n",
              "\n",
              "</pre>\n"
            ],
            "text/plain": [
              "\n",
              "\u001b[38;2;5;245;141m✓\u001b[0m Tests finished 🎉! Run \u001b[1;32m'deepeval login'\u001b[0m to save and analyze evaluation results on Confident AI.\n",
              " \n",
              "✨👀 Looking for a place for your LLM test data to live 🏡❤️ ? Use \u001b[38;2;106;0;255mConfident AI\u001b[0m to get & share testing reports, \n",
              "experiment with models/prompts, and catch regressions for your LLM system. Just run \u001b[36m'deepeval login'\u001b[0m in the CLI. \n",
              "\n"
            ]
          },
          "metadata": {},
          "output_type": "display_data"
        },
        {
          "name": "stdout",
          "output_type": "stream",
          "text": [
            "\n",
            "==== Label: test_results ====\n",
            "Input:  Personal finance investment survey dataset with columns: gender\tage\tInvestment_Avenues\tMutual_Funds\tEquity_Market\tDebentures\tGovernment_Bonds\tFixed_Deposits\tPPF\tGold\t...\tDuration\tInvest_Monitor\tExpect\tAvenue\tWhat are your savings objectives?\tReason_Equity\tReason_Mutual\tReason_Bonds\tReason_FD\tSource\n",
            "Output: 1. **Investment Preferences by Gender**: We want to explore if there are differences in investment preferences between genders. A stacked bar chart can effectively show the distribution of investment avenues (Mutual Funds, Equity Market, etc.) by gender. This will help us understand if certain inves...\n",
            "Insightful (GEval)       : 0.82  |  The output identifies connections such as gender differences in investment preferences and age-related trends, which are not explicitly stated in the input. It also unveils patterns like the relationship between savings objectives and investment avenues, and expected returns with investment preferences, going beyond the immediate information provided.\n",
            "Novelty (GEval)          : 0.40  |  The output provides basic insights like gender differences and age distribution in investment preferences, but lacks specific examples or novel conclusions. It suggests common visualization techniques without introducing innovative approaches or perspectives that require additional thinking from a domain expert.\n",
            "Depth (GEval)            : 0.73  |  The Actual Output reflects a good understanding of the dataset by suggesting various analyses like gender-based preferences and age distribution, which aligns with the Input. It provides novel viewpoints such as using different chart types to explore data, but lacks deeper synthesis of underlying patterns or connections beyond visual representation. It enhances the Input by suggesting specific visualizations but does not incorporate broader perspectives or additional context.\n",
            "\n",
            "==== Label: confident_link ====\n",
            "⚠️  No results for this label.\n",
            "\n"
          ]
        }
      ],
      "source": [
        "from deepeval import evaluate\n",
        "\n",
        "results_sys = evaluate(\n",
        "    test_cases=[test_case_sys],\n",
        "    metrics=[insightful, novelty, depth],\n",
        ")\n",
        "\n",
        "# ── pretty‑print ───────────────────────────────\n",
        "for label, test_case_list in results_sys:\n",
        "    print(f\"\\n==== Label: {label} ====\")\n",
        "\n",
        "    if test_case_list is None:\n",
        "        print(\"⚠️  No results for this label.\\n\")\n",
        "        continue\n",
        "\n",
        "    for test_case in test_case_list:\n",
        "        print(f\"Input:  {test_case.input}\")\n",
        "        print(f\"Output: {test_case.actual_output[:300]}...\")\n",
        "\n",
        "        for metric in test_case.metrics_data:\n",
        "            print(f\"{metric.name:<25}: {metric.score:.2f}  |  {metric.reason}\")\n",
        "\n",
        "\n",
        "\n"
      ]
    },
    {
      "cell_type": "code",
      "execution_count": 12,
      "metadata": {},
      "outputs": [
        {
          "data": {
            "text/html": [
              "<pre style=\"white-space:pre;overflow-x:auto;line-height:normal;font-family:Menlo,'DejaVu Sans Mono',consolas,'Courier New',monospace\">✨ You're running DeepEval's latest <span style=\"color: #6a00ff; text-decoration-color: #6a00ff\">Insightful </span><span style=\"color: #6a00ff; text-decoration-color: #6a00ff; font-weight: bold\">(</span><span style=\"color: #6a00ff; text-decoration-color: #6a00ff\">GEval</span><span style=\"color: #6a00ff; text-decoration-color: #6a00ff; font-weight: bold\">)</span><span style=\"color: #6a00ff; text-decoration-color: #6a00ff\"> Metric</span>! <span style=\"color: #374151; text-decoration-color: #374151; font-weight: bold\">(</span><span style=\"color: #374151; text-decoration-color: #374151\">using gpt-4o, </span><span style=\"color: #374151; text-decoration-color: #374151\">strict</span><span style=\"color: #374151; text-decoration-color: #374151\">=</span><span style=\"color: #374151; text-decoration-color: #374151; font-style: italic\">False</span><span style=\"color: #374151; text-decoration-color: #374151\">, </span><span style=\"color: #374151; text-decoration-color: #374151\">async_mode</span><span style=\"color: #374151; text-decoration-color: #374151\">=</span><span style=\"color: #374151; text-decoration-color: #374151; font-style: italic\">True</span><span style=\"color: #374151; text-decoration-color: #374151; font-weight: bold\">)</span><span style=\"color: #374151; text-decoration-color: #374151\">...</span>\n",
              "</pre>\n"
            ],
            "text/plain": [
              "✨ You're running DeepEval's latest \u001b[38;2;106;0;255mInsightful \u001b[0m\u001b[1;38;2;106;0;255m(\u001b[0m\u001b[38;2;106;0;255mGEval\u001b[0m\u001b[1;38;2;106;0;255m)\u001b[0m\u001b[38;2;106;0;255m Metric\u001b[0m! \u001b[1;38;2;55;65;81m(\u001b[0m\u001b[38;2;55;65;81musing gpt-4o, \u001b[0m\u001b[38;2;55;65;81mstrict\u001b[0m\u001b[38;2;55;65;81m=\u001b[0m\u001b[3;38;2;55;65;81mFalse\u001b[0m\u001b[38;2;55;65;81m, \u001b[0m\u001b[38;2;55;65;81masync_mode\u001b[0m\u001b[38;2;55;65;81m=\u001b[0m\u001b[3;38;2;55;65;81mTrue\u001b[0m\u001b[1;38;2;55;65;81m)\u001b[0m\u001b[38;2;55;65;81m...\u001b[0m\n"
            ]
          },
          "metadata": {},
          "output_type": "display_data"
        },
        {
          "data": {
            "text/html": [
              "<pre style=\"white-space:pre;overflow-x:auto;line-height:normal;font-family:Menlo,'DejaVu Sans Mono',consolas,'Courier New',monospace\">✨ You're running DeepEval's latest <span style=\"color: #6a00ff; text-decoration-color: #6a00ff\">Novelty </span><span style=\"color: #6a00ff; text-decoration-color: #6a00ff; font-weight: bold\">(</span><span style=\"color: #6a00ff; text-decoration-color: #6a00ff\">GEval</span><span style=\"color: #6a00ff; text-decoration-color: #6a00ff; font-weight: bold\">)</span><span style=\"color: #6a00ff; text-decoration-color: #6a00ff\"> Metric</span>! <span style=\"color: #374151; text-decoration-color: #374151; font-weight: bold\">(</span><span style=\"color: #374151; text-decoration-color: #374151\">using gpt-4o, </span><span style=\"color: #374151; text-decoration-color: #374151\">strict</span><span style=\"color: #374151; text-decoration-color: #374151\">=</span><span style=\"color: #374151; text-decoration-color: #374151; font-style: italic\">False</span><span style=\"color: #374151; text-decoration-color: #374151\">, </span><span style=\"color: #374151; text-decoration-color: #374151\">async_mode</span><span style=\"color: #374151; text-decoration-color: #374151\">=</span><span style=\"color: #374151; text-decoration-color: #374151; font-style: italic\">True</span><span style=\"color: #374151; text-decoration-color: #374151; font-weight: bold\">)</span><span style=\"color: #374151; text-decoration-color: #374151\">...</span>\n",
              "</pre>\n"
            ],
            "text/plain": [
              "✨ You're running DeepEval's latest \u001b[38;2;106;0;255mNovelty \u001b[0m\u001b[1;38;2;106;0;255m(\u001b[0m\u001b[38;2;106;0;255mGEval\u001b[0m\u001b[1;38;2;106;0;255m)\u001b[0m\u001b[38;2;106;0;255m Metric\u001b[0m! \u001b[1;38;2;55;65;81m(\u001b[0m\u001b[38;2;55;65;81musing gpt-4o, \u001b[0m\u001b[38;2;55;65;81mstrict\u001b[0m\u001b[38;2;55;65;81m=\u001b[0m\u001b[3;38;2;55;65;81mFalse\u001b[0m\u001b[38;2;55;65;81m, \u001b[0m\u001b[38;2;55;65;81masync_mode\u001b[0m\u001b[38;2;55;65;81m=\u001b[0m\u001b[3;38;2;55;65;81mTrue\u001b[0m\u001b[1;38;2;55;65;81m)\u001b[0m\u001b[38;2;55;65;81m...\u001b[0m\n"
            ]
          },
          "metadata": {},
          "output_type": "display_data"
        },
        {
          "data": {
            "text/html": [
              "<pre style=\"white-space:pre;overflow-x:auto;line-height:normal;font-family:Menlo,'DejaVu Sans Mono',consolas,'Courier New',monospace\">✨ You're running DeepEval's latest <span style=\"color: #6a00ff; text-decoration-color: #6a00ff\">Depth </span><span style=\"color: #6a00ff; text-decoration-color: #6a00ff; font-weight: bold\">(</span><span style=\"color: #6a00ff; text-decoration-color: #6a00ff\">GEval</span><span style=\"color: #6a00ff; text-decoration-color: #6a00ff; font-weight: bold\">)</span><span style=\"color: #6a00ff; text-decoration-color: #6a00ff\"> Metric</span>! <span style=\"color: #374151; text-decoration-color: #374151; font-weight: bold\">(</span><span style=\"color: #374151; text-decoration-color: #374151\">using gpt-4o, </span><span style=\"color: #374151; text-decoration-color: #374151\">strict</span><span style=\"color: #374151; text-decoration-color: #374151\">=</span><span style=\"color: #374151; text-decoration-color: #374151; font-style: italic\">False</span><span style=\"color: #374151; text-decoration-color: #374151\">, </span><span style=\"color: #374151; text-decoration-color: #374151\">async_mode</span><span style=\"color: #374151; text-decoration-color: #374151\">=</span><span style=\"color: #374151; text-decoration-color: #374151; font-style: italic\">True</span><span style=\"color: #374151; text-decoration-color: #374151; font-weight: bold\">)</span><span style=\"color: #374151; text-decoration-color: #374151\">...</span>\n",
              "</pre>\n"
            ],
            "text/plain": [
              "✨ You're running DeepEval's latest \u001b[38;2;106;0;255mDepth \u001b[0m\u001b[1;38;2;106;0;255m(\u001b[0m\u001b[38;2;106;0;255mGEval\u001b[0m\u001b[1;38;2;106;0;255m)\u001b[0m\u001b[38;2;106;0;255m Metric\u001b[0m! \u001b[1;38;2;55;65;81m(\u001b[0m\u001b[38;2;55;65;81musing gpt-4o, \u001b[0m\u001b[38;2;55;65;81mstrict\u001b[0m\u001b[38;2;55;65;81m=\u001b[0m\u001b[3;38;2;55;65;81mFalse\u001b[0m\u001b[38;2;55;65;81m, \u001b[0m\u001b[38;2;55;65;81masync_mode\u001b[0m\u001b[38;2;55;65;81m=\u001b[0m\u001b[3;38;2;55;65;81mTrue\u001b[0m\u001b[1;38;2;55;65;81m)\u001b[0m\u001b[38;2;55;65;81m...\u001b[0m\n"
            ]
          },
          "metadata": {},
          "output_type": "display_data"
        },
        {
          "name": "stderr",
          "output_type": "stream",
          "text": [
            "Evaluating 1 test case(s) in parallel: |██████████|100% (1/1) [Time Taken: 00:05,  5.11s/test case]"
          ]
        },
        {
          "name": "stdout",
          "output_type": "stream",
          "text": [
            "\n",
            "======================================================================\n",
            "\n",
            "Metrics Summary\n",
            "\n",
            "  - ❌ Insightful (GEval) (score: 0.43478745360279164, threshold: 0.5, strict: False, evaluation model: gpt-4o, reason: The output identifies a trend of age-related investment preferences but lacks depth in connecting other dataset elements or providing fresh insights beyond age and gender., error: None)\n",
            "  - ❌ Novelty (GEval) (score: 0.33098848833644495, threshold: 0.5, strict: False, evaluation model: gpt-4o, reason: The output provides some insights on age and gender trends in investment preferences, but lacks unique perspectives or surprising insights for a domain expert., error: None)\n",
            "  - ❌ Depth (GEval) (score: 0.3249491955466016, threshold: 0.5, strict: False, evaluation model: gpt-4o, reason: The output mentions age-related investment preferences and gender dependency on returns, but lacks unique perspectives or complex synthesis. It does not identify non-obvious patterns or challenge assumptions innovatively., error: None)\n",
            "\n",
            "For test case:\n",
            "\n",
            "  - input: Personal finance investment survey dataset with columns: gender\tage\tInvestment_Avenues\tMutual_Funds\tEquity_Market\tDebentures\tGovernment_Bonds\tFixed_Deposits\tPPF\tGold\t...\tDuration\tInvest_Monitor\tExpect\tAvenue\tWhat are your savings objectives?\tReason_Equity\tReason_Mutual\tReason_Bonds\tReason_FD\tSource\n",
            "  - actual output: We can see from the above graph that most of our respondents were in the ages 24-31 and we will look further their habits in the finance field. The above trend shows us that people are less worried about risks involved and more worried about the money which they will get back. We can see that high number of males are dependent on Returns. From the above plot it is clear that as people grow older they are more inclined towards Returns and people at young age look more for wealth creation\n",
            "  - expected output: None\n",
            "  - context: None\n",
            "  - retrieval context: None\n",
            "\n",
            "======================================================================\n",
            "\n",
            "Overall Metric Pass Rates\n",
            "\n",
            "Insightful (GEval): 0.00% pass rate\n",
            "Novelty (GEval): 0.00% pass rate\n",
            "Depth (GEval): 0.00% pass rate\n",
            "\n",
            "======================================================================\n",
            "\n"
          ]
        },
        {
          "name": "stderr",
          "output_type": "stream",
          "text": [
            "\n"
          ]
        },
        {
          "data": {
            "text/html": [
              "<pre style=\"white-space:pre;overflow-x:auto;line-height:normal;font-family:Menlo,'DejaVu Sans Mono',consolas,'Courier New',monospace\">\n",
              "<span style=\"color: #05f58d; text-decoration-color: #05f58d\">✓</span> Tests finished 🎉! Run <span style=\"color: #008000; text-decoration-color: #008000; font-weight: bold\">'deepeval login'</span> to save and analyze evaluation results on Confident AI.\n",
              " \n",
              "✨👀 Looking for a place for your LLM test data to live 🏡❤️ ? Use <span style=\"color: #6a00ff; text-decoration-color: #6a00ff\">Confident AI</span> to get &amp; share testing reports, \n",
              "experiment with models/prompts, and catch regressions for your LLM system. Just run <span style=\"color: #008080; text-decoration-color: #008080\">'deepeval login'</span> in the CLI. \n",
              "\n",
              "</pre>\n"
            ],
            "text/plain": [
              "\n",
              "\u001b[38;2;5;245;141m✓\u001b[0m Tests finished 🎉! Run \u001b[1;32m'deepeval login'\u001b[0m to save and analyze evaluation results on Confident AI.\n",
              " \n",
              "✨👀 Looking for a place for your LLM test data to live 🏡❤️ ? Use \u001b[38;2;106;0;255mConfident AI\u001b[0m to get & share testing reports, \n",
              "experiment with models/prompts, and catch regressions for your LLM system. Just run \u001b[36m'deepeval login'\u001b[0m in the CLI. \n",
              "\n"
            ]
          },
          "metadata": {},
          "output_type": "display_data"
        },
        {
          "name": "stdout",
          "output_type": "stream",
          "text": [
            "\n",
            "==== Label: test_results ====\n",
            "Input:  Personal finance investment survey dataset with columns: gender\tage\tInvestment_Avenues\tMutual_Funds\tEquity_Market\tDebentures\tGovernment_Bonds\tFixed_Deposits\tPPF\tGold\t...\tDuration\tInvest_Monitor\tExpect\tAvenue\tWhat are your savings objectives?\tReason_Equity\tReason_Mutual\tReason_Bonds\tReason_FD\tSource\n",
            "Output: We can see from the above graph that most of our respondents were in the ages 24-31 and we will look further their habits in the finance field. The above trend shows us that people are less worried about risks involved and more worried about the money which they will get back. We can see that high n...\n",
            "Insightful (GEval)       : 0.43  |  The output identifies a trend of age-related investment preferences but lacks depth in connecting other dataset elements or providing fresh insights beyond age and gender.\n",
            "Novelty (GEval)          : 0.33  |  The output provides some insights on age and gender trends in investment preferences, but lacks unique perspectives or surprising insights for a domain expert.\n",
            "Depth (GEval)            : 0.32  |  The output mentions age-related investment preferences and gender dependency on returns, but lacks unique perspectives or complex synthesis. It does not identify non-obvious patterns or challenge assumptions innovatively.\n",
            "\n",
            "==== Label: confident_link ====\n",
            "⚠️  No results for this label.\n",
            "\n"
          ]
        }
      ],
      "source": [
        "results_human = evaluate(\n",
        "    test_cases=[test_case_human],\n",
        "    metrics=[insightful, novelty, depth],\n",
        ")\n",
        "\n",
        "# ── pretty‑print ───────────────────────────────\n",
        "for label, test_case_list in results_human:\n",
        "    print(f\"\\n==== Label: {label} ====\")\n",
        "\n",
        "    if test_case_list is None:\n",
        "        print(\"⚠️  No results for this label.\\n\")\n",
        "        continue\n",
        "\n",
        "    for test_case in test_case_list:\n",
        "        print(f\"Input:  {test_case.input}\")\n",
        "        print(f\"Output: {test_case.actual_output[:300]}...\")\n",
        "\n",
        "        for metric in test_case.metrics_data:\n",
        "            print(f\"{metric.name:<25}: {metric.score:.2f}  |  {metric.reason}\")"
      ]
    },
    {
      "cell_type": "code",
      "execution_count": null,
      "metadata": {},
      "outputs": [],
      "source": []
    }
  ],
  "metadata": {
    "colab": {
      "provenance": []
    },
    "kernelspec": {
      "display_name": "Python 3",
      "name": "python3"
    },
    "language_info": {
      "codemirror_mode": {
        "name": "ipython",
        "version": 3
      },
      "file_extension": ".py",
      "mimetype": "text/x-python",
      "name": "python",
      "nbconvert_exporter": "python",
      "pygments_lexer": "ipython3",
      "version": "3.9.6"
    }
  },
  "nbformat": 4,
  "nbformat_minor": 0
}
