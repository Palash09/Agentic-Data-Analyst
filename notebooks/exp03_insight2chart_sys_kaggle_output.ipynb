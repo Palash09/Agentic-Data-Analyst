{
  "cells": [
    {
      "cell_type": "code",
      "execution_count": 5,
      "metadata": {},
      "outputs": [],
      "source": [
        "import os\n",
        "import sys\n",
        "import json\n",
        "import pandas as pd\n",
        "from IPython.display import display, HTML\n",
        "import matplotlib.pyplot as plt\n",
        "import seaborn as sns\n",
        "\n",
        "# # ------------------------------------------------------------------\n",
        "# # 1. Make sure Python can find your agent package / module\n",
        "# #    (adapt the path if your repo layout is different)\n",
        "# # ------------------------------------------------------------------\n",
        "ROOT_DIR = os.path.dirname(os.path.dirname(os.path.abspath(\"__file__\")))\n",
        "sys.path.append(ROOT_DIR)\n",
        "\n"
      ]
    },
    {
      "cell_type": "code",
      "execution_count": 8,
      "metadata": {},
      "outputs": [
        {
          "name": "stdout",
          "output_type": "stream",
          "text": [
            "🧠  Thoughts saved → /Users/zhangran/Desktop/BP@UnitedStates/Code/D2D_Data2Dashboard/notebooks/analysis_thoughts.md\n",
            "📊  Analysis code → /Users/zhangran/Desktop/BP@UnitedStates/Code/D2D_Data2Dashboard/notebooks/analysis.py\n",
            "🚀  Executing generated analysis script…\n",
            "⚠️  Error executing analysis script: Command '['/Users/zhangran/Desktop/BP@UnitedStates/Code/D2D_Data2Dashboard/.venv/bin/python', '/Users/zhangran/Desktop/BP@UnitedStates/Code/D2D_Data2Dashboard/notebooks/analysis.py']' returned non-zero exit status 1.\n",
            "⚠️  Check the generated code for issues.\n",
            "The dataset provides insights into personal finance behaviors, focusing on investment preferences and financial objectives. Here are the key insights and the corresponding visualizations:\n",
            "\n",
            "1. **Investment Preferences by Gender**: We want to explore if there are differences in investment preferences between genders. A stacked bar chart can effectively show the distribution of investment avenues (Mutual Funds, Equity Market, etc.) by gender. This will help us understand if certain investment types are more popular among males or females.\n",
            "\n",
            "2. **Age Distribution and Investment Choices**: The age range is relatively narrow, but it's important to see how age correlates with investment choices. A box plot can show the distribution of ages for different investment avenues, highlighting any age-related trends in investment behavior.\n",
            "\n",
            "3. **Investment Monitoring Frequency**: Understanding how frequently individuals monitor their investments can provide insights into their engagement level. A pie chart showing the distribution of investment monitoring frequencies (Daily, Weekly, Monthly) will illustrate this aspect.\n",
            "\n",
            "4. **Savings Objectives and Investment Avenues**: It's crucial to see how savings objectives align with chosen investment avenues. A heatmap can display the relationship between savings objectives and investment avenues, showing which objectives are associated with which types of investments.\n",
            "\n",
            "5. **Expected Returns and Investment Preferences**: Analyzing the expected returns against investment preferences can reveal risk tolerance levels. A scatter plot with jitter can show the relationship between expected returns and the number of investments in different avenues.\n",
            "\n",
            "For each visualization, we will ensure clear titles, labels, and annotations to highlight key insights. We will use colorblind-friendly palettes and ensure proper formatting for readability.\n"
          ]
        },
        {
          "name": "stderr",
          "output_type": "stream",
          "text": [
            "Traceback (most recent call last):\n",
            "  File \"/Users/zhangran/Desktop/BP@UnitedStates/Code/D2D_Data2Dashboard/notebooks/analysis.py\", line 14, in <module>\n",
            "    df = pd.read_csv(CSV_PATH)\n",
            "  File \"/Users/zhangran/Desktop/BP@UnitedStates/Code/D2D_Data2Dashboard/.venv/lib/python3.9/site-packages/pandas/io/parsers/readers.py\", line 1026, in read_csv\n",
            "    return _read(filepath_or_buffer, kwds)\n",
            "  File \"/Users/zhangran/Desktop/BP@UnitedStates/Code/D2D_Data2Dashboard/.venv/lib/python3.9/site-packages/pandas/io/parsers/readers.py\", line 620, in _read\n",
            "    parser = TextFileReader(filepath_or_buffer, **kwds)\n",
            "  File \"/Users/zhangran/Desktop/BP@UnitedStates/Code/D2D_Data2Dashboard/.venv/lib/python3.9/site-packages/pandas/io/parsers/readers.py\", line 1620, in __init__\n",
            "    self._engine = self._make_engine(f, self.engine)\n",
            "  File \"/Users/zhangran/Desktop/BP@UnitedStates/Code/D2D_Data2Dashboard/.venv/lib/python3.9/site-packages/pandas/io/parsers/readers.py\", line 1880, in _make_engine\n",
            "    self.handles = get_handle(\n",
            "  File \"/Users/zhangran/Desktop/BP@UnitedStates/Code/D2D_Data2Dashboard/.venv/lib/python3.9/site-packages/pandas/io/common.py\", line 873, in get_handle\n",
            "    handle = open(\n",
            "FileNotFoundError: [Errno 2] No such file or directory: 'path/to/your/dataset.csv'\n"
          ]
        }
      ],
      "source": [
        "from agents.insight2dashboard_tot import generate_analysis\n",
        "import pathlib\n",
        "\n",
        "# Load dataset\n",
        "csv_path = \"/Users/zhangran/Desktop/BP@UnitedStates/Code/D2D_Data2Dashboard/dataset/Finance_survey_data.csv\"\n",
        "\n",
        "# Just use the path to the JSON file directly\n",
        "thoughts = generate_analysis(\n",
        "    csv_path=csv_path,\n",
        "    insight_json_path=\"/Users/zhangran/Desktop/BP@UnitedStates/Code/D2D_Data2Dashboard/exp_result/exp02_d2insight_sys_kaggle_result.json\",\n",
        "    model=\"gpt-4o\",\n",
        "    run_code=True\n",
        ")\n",
        "print(thoughts)"
      ]
    },
    {
      "cell_type": "code",
      "execution_count": null,
      "metadata": {},
      "outputs": [],
      "source": []
    }
  ],
  "metadata": {
    "colab": {
      "provenance": []
    },
    "kernelspec": {
      "display_name": "Python 3",
      "name": "python3"
    },
    "language_info": {
      "codemirror_mode": {
        "name": "ipython",
        "version": 3
      },
      "file_extension": ".py",
      "mimetype": "text/x-python",
      "name": "python",
      "nbconvert_exporter": "python",
      "pygments_lexer": "ipython3",
      "version": "3.9.6"
    }
  },
  "nbformat": 4,
  "nbformat_minor": 0
}
