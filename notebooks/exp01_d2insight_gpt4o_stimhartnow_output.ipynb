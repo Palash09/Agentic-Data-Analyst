{
  "cells": [
    {
      "cell_type": "markdown",
      "metadata": {},
      "source": [
        "## Prep"
      ]
    },
    {
      "cell_type": "code",
      "execution_count": 1,
      "metadata": {
        "id": "9a-zZYDiwGwf"
      },
      "outputs": [],
      "source": [
        "import os\n",
        "import sys\n",
        "import json\n",
        "import pandas as pd\n",
        "from IPython.display import display, HTML\n",
        "import matplotlib.pyplot as plt\n",
        "import seaborn as sns\n",
        "\n",
        "# ------------------------------------------------------------------\n",
        "# 1. Make sure Python can find your agent package / module\n",
        "#    (adapt the path if your repo layout is different)\n",
        "# ------------------------------------------------------------------\n",
        "ROOT_DIR = os.path.dirname(os.path.dirname(os.path.abspath(\"__file__\")))\n",
        "sys.path.append(ROOT_DIR)"
      ]
    },
    {
      "cell_type": "markdown",
      "metadata": {},
      "source": [
        "## GPT-4o, without prompting domain"
      ]
    },
    {
      "cell_type": "code",
      "execution_count": 2,
      "metadata": {},
      "outputs": [
        {
          "name": "stderr",
          "output_type": "stream",
          "text": [
            "/Users/zhangran/Desktop/BP@UnitedStates/Code/D2D_Data2Dashboard/.venv/lib/python3.9/site-packages/urllib3/__init__.py:35: NotOpenSSLWarning: urllib3 v2 only supports OpenSSL 1.1.1+, currently the 'ssl' module is compiled with 'LibreSSL 2.8.3'. See: https://github.com/urllib3/urllib3/issues/3020\n",
            "  warnings.warn(\n"
          ]
        },
        {
          "name": "stdout",
          "output_type": "stream",
          "text": [
            "{\n",
            "  \"dataset_overview\": {\n",
            "    \"total_records\": 15,\n",
            "    \"columns\": [\n",
            "      \"Current Period\",\n",
            "      \"Customer ID\",\n",
            "      \"Periods Active\",\n",
            "      \"Current Customer (Y/N)\",\n",
            "      \"Period Acquired\",\n",
            "      \"Period Terminated\",\n",
            "      \"Acquisition Channel\",\n",
            "      \"Sector\",\n",
            "      \"Referred (Y/N)\",\n",
            "      \"Premium (Y/N)\",\n",
            "      \"Region\",\n",
            "      \"Co. Age\",\n",
            "      \"Size\",\n",
            "      \"No. Maker Contracts\",\n",
            "      \"No. Advanced Contracts\",\n",
            "      \"Revenue, Total\",\n",
            "      \"Maker Revenue\",\n",
            "      \"Advanced Revenue\",\n",
            "      \"Expected CLV\"\n",
            "    ]\n",
            "  },\n",
            "  \"key_insights\": {\n",
            "    \"customer_status\": {\n",
            "      \"current_customers\": 1,\n",
            "      \"terminated_customers\": 14\n",
            "    },\n",
            "    \"acquisition_channel\": {\n",
            "      \"external\": 11,\n",
            "      \"internal\": 4\n",
            "    },\n",
            "    \"sector\": {\n",
            "      \"aerospace\": 15\n",
            "    },\n",
            "    \"region_distribution\": {\n",
            "      \"southeast\": 3,\n",
            "      \"northeast\": 5,\n",
            "      \"midwest\": 4,\n",
            "      \"west\": 3\n",
            "    },\n",
            "    \"company_age_distribution\": {\n",
            "      \"0-5yrs\": 8,\n",
            "      \"6-10yrs\": 4,\n",
            "      \"10+yrs\": 3\n",
            "    },\n",
            "    \"size_distribution\": {\n",
            "      \"small\": 9,\n",
            "      \"medium\": 5,\n",
            "      \"large\": 1\n",
            "    },\n",
            "    \"contract_distribution\": {\n",
            "      \"maker_contracts\": {\n",
            "        \"total\": 15,\n",
            "        \"average_per_customer\": 1\n",
            "      },\n",
            "      \"advanced_contracts\": {\n",
            "        \"total\": 12,\n",
            "        \"average_per_customer\": 0.8\n",
            "      }\n",
            "    },\n",
            "    \"revenue_analysis\": {\n",
            "      \"total_revenue\": 676000,\n",
            "      \"average_revenue_per_customer\": 45066.67,\n",
            "      \"maker_revenue\": 336000,\n",
            "      \"advanced_revenue\": 340000\n",
            "    },\n",
            "    \"expected_clv_analysis\": {\n",
            "      \"total_expected_clv\": 18000000,\n",
            "      \"average_expected_clv_per_customer\": 1200000\n",
            "    }\n",
            "  },\n",
            "  \"observations\": {\n",
            "    \"customer_retention\": \"The majority of customers have terminated their contracts, with only one current customer remaining.\",\n",
            "    \"acquisition_preference\": \"Most customers were acquired through external channels.\",\n",
            "    \"sector_focus\": \"All customers belong to the aerospace sector.\",\n",
            "    \"regional_focus\": \"The Northeast region has the highest number of customers.\",\n",
            "    \"company_age\": \"A significant portion of customers are relatively new companies (0-5 years).\",\n",
            "    \"contract_type\": \"There is a balanced distribution between maker and advanced contracts, with a slight preference for advanced contracts.\",\n",
            "    \"revenue_distribution\": \"Revenue is almost evenly split between maker and advanced contracts.\",\n",
            "    \"clv_expectation\": \"The expected customer lifetime value is high, indicating potential for long-term profitability.\"\n",
            "  }\n",
            "}\n"
          ]
        }
      ],
      "source": [
        "from agents.d2insight_gpt4o import analyze_csv_with_insights   # noqa: E402\n",
        "\n",
        "if __name__ == \"__main__\":\n",
        "    csv_file = \"https://drive.google.com/uc?export=download&id=1JhsgpIulCv8Q9NPTZGhrz5-y_RUufMoO\"      # path to your CSV\n",
        "    question = \"analysis this file with insights.\"\n",
        "    print(analyze_csv_with_insights(csv_file, question))\n"
      ]
    },
    {
      "cell_type": "code",
      "execution_count": 3,
      "metadata": {},
      "outputs": [],
      "source": [
        "import json\n",
        "\n",
        "result = analyze_csv_with_insights(csv_file, question)\n",
        "\n",
        "# Save the result to a JSON file\\n\",\n",
        "with open(\"exp01_d2insight_gpt4o_stimhartnow_result.json\", \"w\") as f:\n",
        "    json.dump(json.loads(result), f, indent=2)\n",
        "\n"
      ]
    },
    {
      "cell_type": "markdown",
      "metadata": {},
      "source": [
        "## GPT-4o, with prompting domain"
      ]
    },
    {
      "cell_type": "code",
      "execution_count": 4,
      "metadata": {},
      "outputs": [
        {
          "name": "stdout",
          "output_type": "stream",
          "text": [
            "{\n",
            "  \"domain\": \"Customer Relationship Management (CRM) in the Aerospace Sector\",\n",
            "  \"insights\": {\n",
            "    \"customer_retention\": {\n",
            "      \"current_customers\": 1,\n",
            "      \"terminated_customers\": 14,\n",
            "      \"retention_rate\": \"6.67%\",\n",
            "      \"observation\": \"The majority of customers have terminated their contracts, indicating potential issues with customer retention strategies.\"\n",
            "    },\n",
            "    \"acquisition_channels\": {\n",
            "      \"external_acquisitions\": 11,\n",
            "      \"internal_acquisitions\": 4,\n",
            "      \"observation\": \"Most customers were acquired through external channels, suggesting a reliance on external marketing or partnerships for customer acquisition.\"\n",
            "    },\n",
            "    \"customer_demographics\": {\n",
            "      \"region_distribution\": {\n",
            "        \"Northeast\": 5,\n",
            "        \"Southeast\": 3,\n",
            "        \"Midwest\": 4,\n",
            "        \"West\": 3\n",
            "      },\n",
            "      \"company_age_distribution\": {\n",
            "        \"0-5yrs\": 8,\n",
            "        \"6-10yrs\": 4,\n",
            "        \"10+yrs\": 3\n",
            "      },\n",
            "      \"size_distribution\": {\n",
            "        \"Small\": 10,\n",
            "        \"Medium\": 5,\n",
            "        \"Large\": 1\n",
            "      },\n",
            "      \"observation\": \"The dataset is dominated by small companies, with a significant number of young companies (0-5 years). The Northeast region has the highest number of customers.\"\n",
            "    },\n",
            "    \"financial_analysis\": {\n",
            "      \"average_revenue\": 45492.31,\n",
            "      \"average_maker_revenue\": 21000,\n",
            "      \"average_advanced_revenue\": 24492.31,\n",
            "      \"average_expected_clv\": 1086460.92,\n",
            "      \"observation\": \"The average expected Customer Lifetime Value (CLV) is significantly higher than the average revenue, indicating potential for long-term profitability despite current low retention.\"\n",
            "    },\n",
            "    \"contract_analysis\": {\n",
            "      \"maker_contracts\": {\n",
            "        \"total\": 14,\n",
            "        \"average_per_customer\": 0.93\n",
            "      },\n",
            "      \"advanced_contracts\": {\n",
            "        \"total\": 13,\n",
            "        \"average_per_customer\": 0.87\n",
            "      },\n",
            "      \"observation\": \"There is a balanced distribution between maker and advanced contracts, with a slight preference for maker contracts.\"\n",
            "    },\n",
            "    \"premium_customers\": {\n",
            "      \"total_premium_customers\": 1,\n",
            "      \"observation\": \"Only one customer is marked as premium, suggesting a potential area for growth by converting more customers to premium status.\"\n",
            "    }\n",
            "  }\n",
            "}\n"
          ]
        }
      ],
      "source": [
        "from agents.d2insight_gpt4o_domain import analyze_csv_with_insights_domain   # noqa: E402\n",
        "\n",
        "if __name__ == \"__main__\":\n",
        "    csv_file = \"https://drive.google.com/uc?export=download&id=1JhsgpIulCv8Q9NPTZGhrz5-y_RUufMoO\"      # path to your CSV\n",
        "    question = \"analysis this file with insights.\"\n",
        "    print(analyze_csv_with_insights_domain(csv_file, question))"
      ]
    },
    {
      "cell_type": "code",
      "execution_count": 5,
      "metadata": {},
      "outputs": [],
      "source": [
        "import json\n",
        "\n",
        "result_domain = analyze_csv_with_insights_domain(csv_file, question)\n",
        "\n",
        "# Save the result to a JSON file\\n\",\n",
        "with open(\"exp01_d2insight_gpt4o-domain_stimhartnow_output.json\", \"w\") as f:\n",
        "    json.dump(json.loads(result_domain), f, indent=2)"
      ]
    }
  ],
  "metadata": {
    "colab": {
      "provenance": []
    },
    "kernelspec": {
      "display_name": "Python 3",
      "name": "python3"
    },
    "language_info": {
      "codemirror_mode": {
        "name": "ipython",
        "version": 3
      },
      "file_extension": ".py",
      "mimetype": "text/x-python",
      "name": "python",
      "nbconvert_exporter": "python",
      "pygments_lexer": "ipython3",
      "version": "3.9.6"
    }
  },
  "nbformat": 4,
  "nbformat_minor": 0
}
